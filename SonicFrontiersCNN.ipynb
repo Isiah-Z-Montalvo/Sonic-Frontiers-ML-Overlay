{
 "cells": [
  {
   "cell_type": "markdown",
   "id": "edeb5af2-aebc-4f19-8c52-2f1b5b8d8ee0",
   "metadata": {
    "tags": []
   },
   "source": [
    "# Sonic Frontiers Region-Based Convolutional Neural Network\n",
    "A model for predicting the class label and bounding box location of objects within screenshots of the video game Sonic Frontiers."
   ]
  },
  {
   "cell_type": "markdown",
   "id": "4a89fe49-824f-4cbe-9cd1-6c84b37b0fab",
   "metadata": {
    "tags": []
   },
   "source": [
    "# Model Preparation"
   ]
  },
  {
   "cell_type": "markdown",
   "id": "6901c557-96bc-4274-91fd-d72561cc2f97",
   "metadata": {},
   "source": [
    "## Importing Libraries and Data"
   ]
  },
  {
   "cell_type": "code",
   "execution_count": 1,
   "id": "c3199160-8c19-46ea-baeb-773ddc1d92d9",
   "metadata": {},
   "outputs": [],
   "source": [
    "import pandas as pd\n",
    "import numpy as np\n",
    "import matplotlib as plt\n",
    "import os"
   ]
  },
  {
   "cell_type": "code",
   "execution_count": 2,
   "id": "ba88c216-4ba7-4bdf-b24a-8067cd9f8b54",
   "metadata": {},
   "outputs": [
    {
     "data": {
      "text/html": [
       "<div>\n",
       "<style scoped>\n",
       "    .dataframe tbody tr th:only-of-type {\n",
       "        vertical-align: middle;\n",
       "    }\n",
       "\n",
       "    .dataframe tbody tr th {\n",
       "        vertical-align: top;\n",
       "    }\n",
       "\n",
       "    .dataframe thead th {\n",
       "        text-align: right;\n",
       "    }\n",
       "</style>\n",
       "<table border=\"1\" class=\"dataframe\">\n",
       "  <thead>\n",
       "    <tr style=\"text-align: right;\">\n",
       "      <th></th>\n",
       "      <th>Image</th>\n",
       "      <th>X</th>\n",
       "      <th>Y</th>\n",
       "      <th>Width</th>\n",
       "      <th>Height</th>\n",
       "      <th>Label</th>\n",
       "    </tr>\n",
       "  </thead>\n",
       "  <tbody>\n",
       "    <tr>\n",
       "      <th>0</th>\n",
       "      <td>SonicFrontiers1.jpg</td>\n",
       "      <td>303.333333</td>\n",
       "      <td>327.833333</td>\n",
       "      <td>353.500000</td>\n",
       "      <td>408.916667</td>\n",
       "      <td>Sonic</td>\n",
       "    </tr>\n",
       "    <tr>\n",
       "      <th>1</th>\n",
       "      <td>SonicFrontiers10.jpg</td>\n",
       "      <td>296.545455</td>\n",
       "      <td>383.090909</td>\n",
       "      <td>374.181818</td>\n",
       "      <td>488.727273</td>\n",
       "      <td>Sonic</td>\n",
       "    </tr>\n",
       "    <tr>\n",
       "      <th>2</th>\n",
       "      <td>SonicFrontiers100.jpg</td>\n",
       "      <td>304.818182</td>\n",
       "      <td>327.090909</td>\n",
       "      <td>385.000000</td>\n",
       "      <td>404.727273</td>\n",
       "      <td>Sonic</td>\n",
       "    </tr>\n",
       "    <tr>\n",
       "      <th>3</th>\n",
       "      <td>SonicFrontiers1000.jpg</td>\n",
       "      <td>250.250000</td>\n",
       "      <td>247.333333</td>\n",
       "      <td>319.666667</td>\n",
       "      <td>316.750000</td>\n",
       "      <td>Sonic</td>\n",
       "    </tr>\n",
       "    <tr>\n",
       "      <th>4</th>\n",
       "      <td>SonicFrontiers1001.jpg</td>\n",
       "      <td>278.923077</td>\n",
       "      <td>321.461538</td>\n",
       "      <td>337.076923</td>\n",
       "      <td>394.153846</td>\n",
       "      <td>Sonic</td>\n",
       "    </tr>\n",
       "  </tbody>\n",
       "</table>\n",
       "</div>"
      ],
      "text/plain": [
       "                    Image           X           Y       Width      Height  \\\n",
       "0     SonicFrontiers1.jpg  303.333333  327.833333  353.500000  408.916667   \n",
       "1    SonicFrontiers10.jpg  296.545455  383.090909  374.181818  488.727273   \n",
       "2   SonicFrontiers100.jpg  304.818182  327.090909  385.000000  404.727273   \n",
       "3  SonicFrontiers1000.jpg  250.250000  247.333333  319.666667  316.750000   \n",
       "4  SonicFrontiers1001.jpg  278.923077  321.461538  337.076923  394.153846   \n",
       "\n",
       "   Label  \n",
       "0  Sonic  \n",
       "1  Sonic  \n",
       "2  Sonic  \n",
       "3  Sonic  \n",
       "4  Sonic  "
      ]
     },
     "execution_count": 2,
     "metadata": {},
     "output_type": "execute_result"
    }
   ],
   "source": [
    "sonicDF = pd.read_csv(\"SonicFrontiersData.txt\", sep = \", \", engine = \"python\")\n",
    "sonicDF.head()"
   ]
  },
  {
   "cell_type": "code",
   "execution_count": 3,
   "id": "6d0f5ff4-3b51-4c40-ace4-0144127e81ec",
   "metadata": {},
   "outputs": [
    {
     "data": {
      "text/plain": [
       "Image      object\n",
       "X         float64\n",
       "Y         float64\n",
       "Width     float64\n",
       "Height    float64\n",
       "Label      object\n",
       "dtype: object"
      ]
     },
     "execution_count": 3,
     "metadata": {},
     "output_type": "execute_result"
    }
   ],
   "source": [
    "sonicDF.dtypes"
   ]
  },
  {
   "cell_type": "code",
   "execution_count": 4,
   "id": "bb8524e9-7b73-48c4-8a95-e93b9dcafeca",
   "metadata": {},
   "outputs": [
    {
     "data": {
      "text/plain": [
       "(2036, 6)"
      ]
     },
     "execution_count": 4,
     "metadata": {},
     "output_type": "execute_result"
    }
   ],
   "source": [
    "sonicDF.shape"
   ]
  },
  {
   "cell_type": "markdown",
   "id": "f544c872-3b79-45fc-b1e6-6d09420e7dea",
   "metadata": {},
   "source": [
    "## Cleaning the Data"
   ]
  },
  {
   "cell_type": "code",
   "execution_count": 5,
   "id": "43c0b3d5-8eb0-4255-b2f3-f545e2a3f538",
   "metadata": {},
   "outputs": [
    {
     "data": {
      "text/html": [
       "<div>\n",
       "<style scoped>\n",
       "    .dataframe tbody tr th:only-of-type {\n",
       "        vertical-align: middle;\n",
       "    }\n",
       "\n",
       "    .dataframe tbody tr th {\n",
       "        vertical-align: top;\n",
       "    }\n",
       "\n",
       "    .dataframe thead th {\n",
       "        text-align: right;\n",
       "    }\n",
       "</style>\n",
       "<table border=\"1\" class=\"dataframe\">\n",
       "  <thead>\n",
       "    <tr style=\"text-align: right;\">\n",
       "      <th></th>\n",
       "      <th>Image</th>\n",
       "      <th>X</th>\n",
       "      <th>Y</th>\n",
       "      <th>Width</th>\n",
       "      <th>Height</th>\n",
       "      <th>Label</th>\n",
       "    </tr>\n",
       "  </thead>\n",
       "  <tbody>\n",
       "    <tr>\n",
       "      <th>0</th>\n",
       "      <td>SonicFrontiers2421.jpg</td>\n",
       "      <td>298.200000</td>\n",
       "      <td>196.700000</td>\n",
       "      <td>358.400000</td>\n",
       "      <td>320.600000</td>\n",
       "      <td>Sonic</td>\n",
       "    </tr>\n",
       "    <tr>\n",
       "      <th>1</th>\n",
       "      <td>SonicFrontiers1934.jpg</td>\n",
       "      <td>137.200000</td>\n",
       "      <td>380.800000</td>\n",
       "      <td>204.400000</td>\n",
       "      <td>448.700000</td>\n",
       "      <td>Rings</td>\n",
       "    </tr>\n",
       "    <tr>\n",
       "      <th>2</th>\n",
       "      <td>SonicFrontiers2197.jpg</td>\n",
       "      <td>280.700000</td>\n",
       "      <td>265.300000</td>\n",
       "      <td>352.800000</td>\n",
       "      <td>326.200000</td>\n",
       "      <td>Sonic</td>\n",
       "    </tr>\n",
       "    <tr>\n",
       "      <th>3</th>\n",
       "      <td>SonicFrontiers2020.jpg</td>\n",
       "      <td>389.083333</td>\n",
       "      <td>177.333333</td>\n",
       "      <td>402.500000</td>\n",
       "      <td>199.500000</td>\n",
       "      <td>Rings</td>\n",
       "    </tr>\n",
       "    <tr>\n",
       "      <th>4</th>\n",
       "      <td>SonicFrontiers1269.jpg</td>\n",
       "      <td>287.000000</td>\n",
       "      <td>312.083333</td>\n",
       "      <td>341.833333</td>\n",
       "      <td>394.333333</td>\n",
       "      <td>Sonic</td>\n",
       "    </tr>\n",
       "  </tbody>\n",
       "</table>\n",
       "</div>"
      ],
      "text/plain": [
       "                    Image           X           Y       Width      Height  \\\n",
       "0  SonicFrontiers2421.jpg  298.200000  196.700000  358.400000  320.600000   \n",
       "1  SonicFrontiers1934.jpg  137.200000  380.800000  204.400000  448.700000   \n",
       "2  SonicFrontiers2197.jpg  280.700000  265.300000  352.800000  326.200000   \n",
       "3  SonicFrontiers2020.jpg  389.083333  177.333333  402.500000  199.500000   \n",
       "4  SonicFrontiers1269.jpg  287.000000  312.083333  341.833333  394.333333   \n",
       "\n",
       "   Label  \n",
       "0  Sonic  \n",
       "1  Rings  \n",
       "2  Sonic  \n",
       "3  Rings  \n",
       "4  Sonic  "
      ]
     },
     "execution_count": 5,
     "metadata": {},
     "output_type": "execute_result"
    }
   ],
   "source": [
    "sonicDF = sonicDF.drop_duplicates(ignore_index = True)\n",
    "sonicDF = sonicDF.sample(frac = 1, random_state = 7, ignore_index = True)\n",
    "sonicDF.head()"
   ]
  },
  {
   "cell_type": "code",
   "execution_count": 6,
   "id": "0d307828-cffd-4e34-a2b2-68c4f9e682cf",
   "metadata": {},
   "outputs": [
    {
     "data": {
      "text/plain": [
       "(2032, 6)"
      ]
     },
     "execution_count": 6,
     "metadata": {},
     "output_type": "execute_result"
    }
   ],
   "source": [
    "sonicDF.shape"
   ]
  },
  {
   "cell_type": "markdown",
   "id": "cbfe20e6-4503-4d2a-80d5-8aaf70ee35e4",
   "metadata": {},
   "source": [
    "## Visualizing the Data"
   ]
  },
  {
   "cell_type": "code",
   "execution_count": 7,
   "id": "b3975361-fc86-4da9-90f3-b313ef59f3d2",
   "metadata": {},
   "outputs": [
    {
     "name": "stdout",
     "output_type": "stream",
     "text": [
      "SonicFrontiers2421.jpg\n"
     ]
    }
   ],
   "source": [
    "datasetPath = \"D:\\Sonic-Frontiers-Dataset\"\n",
    "imagePath = sonicDF[\"Image\"][0]\n",
    "print(imagePath)"
   ]
  },
  {
   "cell_type": "code",
   "execution_count": null,
   "id": "24e35512-48dc-4b3d-9b18-29bbdded7f9b",
   "metadata": {},
   "outputs": [],
   "source": []
  }
 ],
 "metadata": {
  "kernelspec": {
   "display_name": "Python 3 (ipykernel)",
   "language": "python",
   "name": "python3"
  },
  "language_info": {
   "codemirror_mode": {
    "name": "ipython",
    "version": 3
   },
   "file_extension": ".py",
   "mimetype": "text/x-python",
   "name": "python",
   "nbconvert_exporter": "python",
   "pygments_lexer": "ipython3",
   "version": "3.9.16"
  }
 },
 "nbformat": 4,
 "nbformat_minor": 5
}
